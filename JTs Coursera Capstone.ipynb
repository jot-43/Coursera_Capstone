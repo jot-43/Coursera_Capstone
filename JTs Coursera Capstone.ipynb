{
 "cells": [
  {
   "cell_type": "markdown",
   "metadata": {},
   "source": [
    "<h1 align=center><font size = 5>JT's IBM Data Science Capstone Assignment:</font></h1>\n",
    "\n",
    "<h1 align=center><font size = 5>Red and Blue Gerrymandering</font></h1>\n",
    "\n",
    "<h3 align=center><font size = 3>Responding to (alleged) unfair Georgia redistricting  </font></h3>\n",
    "\n",
    "<a><img align=center src = https://www.economicmodeling.com/wp-content/uploads/2017/08/georgia-peach.jpg width = 200> </a>\n",
    "\n",
    "_(image courtesy of economicmodeling.com)_"
   ]
  },
  {
   "cell_type": "markdown",
   "metadata": {},
   "source": [
    "<h3 align=left><font size = 4>Introduction (Business Problem Summary):</font></h3>\n",
    "\n",
    "Amongst the issues affecting election campaigning, Gerrymandering is one of the most vexing and arcane.  Given the contentious nature of this topic in Georgia (USA) and the close results of recent elections, it is important that political campaign management firms (as well as voters) understand alternatives to counter effects of this issue in order to better target candidate marketing strategies during the next Georgia elections. \n",
    "\n",
    "Gerrymandering is a practice intended to establish an unfair political advantage for a particular party or group by manipulating US congressional election district boundaries. \"Districts\" define geographical boundaries, with each district within a state being geographically contiguous and having about the same number of state voters.  The redistricting process is managed by committee, currently a committee chaired by the Republican party and is expected to happen following the 2020 US census.  The last redistricting in Georgia occurred in 2015 and had come under fire due to suspected gerrymandering to suppress minority votes (source \"https://democraticredistricting.com/state/georgia/\").  This report explores the demographics for the districts and those of counties across the state, *ignoring district boundaries*, in order to better understand make-up and potential avenues for combatting gerrymandering effects.\n",
    "\n",
    "**The target audience for this analysis are political campaign management firms who do business in Georgia.**  Such firms typically control campaign investment strategies, including types of adverts, locations to focus on, and delivery channels for candidate communication.  Such strategies are aimed at achieving the highest voter turnout for the candidate, **therefore, demographics analysis is vital to the success and reputation of the campaign management firm** (as well as the candidate).\n",
    "\n",
    "\n",
    "_Caveats: this is exploratory analysis (in the loosest sense); results and observations are limited to datasets available to students and in the context of the IBM Data Science Professional course schedule.  Moreover, this report does not express a political preference.  At a time where complete and accurate information (\"truth\") is under stress, it is important that readers bear these points in mind re: this notebook and report._\n",
    "\n",
    "_Also be aware, this analysis required quite a few disparate files and so is somewhat longer than notebooks referenced in course samples_"
   ]
  },
  {
   "cell_type": "markdown",
   "metadata": {},
   "source": [
    "<h3 align=left><font size = 3>Data Requirements:</font></h3>\n",
    "\n",
    "Certain characteristics of the 14 \"red\" (Republican) and  \"blue\" (Democratic) districts will be reviewed:\n",
    "- voter population size\n",
    "- ethnicity (using 2015 survey estimates related by BallotPedia)\n",
    "- education levels of voters\n",
    "- age ranges of voters\n",
    "- poverty levels in each district\n",
    "- local amenities (venue categories) for each district\n",
    "\n",
    "\n",
    "The features will be sourced from following:"
   ]
  },
  {
   "cell_type": "markdown",
   "metadata": {},
   "source": [
    "*** Election results too old but used the ethnicity estimates as could not find anything better***\n",
    "https://ballotpedia.org/Redistricting_in_Georgia - will provide congressional districts by number, current representative by full name, party affiliation, election victory margins, and district ethnic demographic estimates (BallotPedia referenced the United States Census Bureau, \"American Fact Finder: 2015 1-year estimates,\" for ethnicity data).\n",
    "\n",
    "https://en.wikipedia.org/wiki/2018_United_States_House_of_Representatives_elections_in_Georgia - will provide congressional district 2018 election results for Georgia.\n",
    "\n",
    "https://www2.census.gov/programs-surveys/demo/tables/voting/table02c.xlsx - \"Characteristics (Educational Attainment) of the Citizen Voting-Age Population for Congressional Districts: 2018\" - will provide education attainment per district.\n",
    "\n",
    "https://www2.census.gov/programs-surveys/demo/tables/voting/table02a.xlsx - \"Characteristics (Age) of the Citizen Voting-Age Population for Congressional Districts: 2018\" - will provide voter age per district.\n",
    "\n",
    "https://www2.census.gov/programs-surveys/demo/tables/voting/table02b.xlsx - \"Characteristics (Sex and Poverty) of the Citizen Voting-Age Population for Congressional Districts: 2018\" - will provide number of people living in poverty for each district.\n",
    "\n",
    "\"./Documents/Coursera IBM Data Sci Spec/9. Applied Data Science Capstone/Coursera_Capstone/georgia_districts_addr\" - manually created from the .gov websites of each congressional representative (as per BallotPedia Georgia Districts html table), using the first office address where representatives may have had multiple addresses.\n",
    "\n",
    "https://developer.foursquare.com/docs/build-with-foursquare/categories - FourSquare will be used to select venue information for each district. Such data will further inform the philosophy and voting pattern potential for a given district.\n",
    "\n",
    "https://www.census.gov/geographies/mapping-files/2018/geo/kml-cartographic-boundary-files.html (\"cb_2018_13_sldu_500k\") map of Georgia USA with county boundaries, converted to geojson using the open-source tool kml2geojson."
   ]
  },
  {
   "cell_type": "markdown",
   "metadata": {},
   "source": [
    "Below data sources are county-level detail that will be used in the experimental reclustering of counties based on demographics and not congressional district: \n",
    "\n",
    "\n",
    "_**(Important note - counties are NOT subsets of districts)**_"
   ]
  },
  {
   "cell_type": "markdown",
   "metadata": {},
   "source": [
    "\"./Documents/Coursera IBM Data Sci Spec/9. Applied Data Science Capstone/Coursera_Capstone/CAINC30_GA_1969_2018.csv\" - manually extracted from CAINC30 zip file downloaded from the \"US Dept of Commerce - BEA Regional Economics Data\" (https://apps.bea.gov/iTable/iTable.cfm?reqid=70&step=1&isuri=1&acrdn=8#reqid=70&step=1&isuri=1&acrdn=8 ).  Will provide population and income by county ('LineCodes' 100 and 110).\n",
    "\n",
    "http://sos.ga.gov/admin/files/Active_Voters_by_Race_Gender_and_Age_as_of_May_1_2020.xlsx - from Georgia Voter Registration Statistics goverment site - active voter numbers by race and gender.\n"
   ]
  },
  {
   "cell_type": "markdown",
   "metadata": {},
   "source": [
    "<h3 align=left><font size = 3>Methodology:</font></h3>\n",
    "\n",
    "In order to suggest meaningful focus areas for campaign advisors, several steps will be followed:\n",
    "\n",
    "1. **Data sourcing for Districts** - Useful data sources on Georgia congressional districts will be identified with information that is as current as possible (see \"Data\" section above). The data will then be loaded into a common 'merged' table which can be easily charted and evaluated (with '.head()' checks to insure data preprocessing efficacy).  Note that data will mostly be sourced from public and government websites with the exception of:\n",
    "    + district center-point addresses, which are more difficult to source and required a manually-derived table\n",
    "    + amenities information for districts of interest; this will be provided via FourSquare apis.\n",
    "\n",
    "\n",
    "2. **Data visualisation and Analysis for Districts** - Data visualisations will be created that illustrate demographic breakdowns for the districts.  Highlights and anomalies will be noted, with a view to narrowing focus to a few districts with the most interesting characteristics.  Further elaboration data will be charted for the shortlist of high-interest districts to understand types of amenities available in each. Additionally, a broad clustering of counties across Georgia will be performed in order to identify potential counties of interest for alternative campaign targetting.\n",
    "\n",
    "\n",
    "3. **Data Sourcing, Visualisation and Analysis for Counties** - Assuming the previous District-focussed processes have yielded interesting information, repeat the Data sourcing and visualisation steps above for Counties (smaller geographical representations) in Georgia to identify clusters of counties that might further inform better ways of targetting voters than reliance on district boundaries.\n",
    "\n",
    "\n",
    "4. **Results discussion** - Consolidate observations from above steps, contrasting District information.  Assess results, unusual observations, and other process observations that may be useful.\n",
    "\n",
    "\n",
    "5. **Conclusions** - The final recommendations for the campaign managers, advisors and consultants.\n"
   ]
  },
  {
   "cell_type": "markdown",
   "metadata": {},
   "source": [
    "<h3 align=left><font size = 3>Step 1 - Data sourcing:</font></h3>"
   ]
  },
  {
   "cell_type": "markdown",
   "metadata": {},
   "source": [
    "First, grab necessary libraries:"
   ]
  },
  {
   "cell_type": "code",
   "execution_count": null,
   "metadata": {},
   "outputs": [],
   "source": [
    "#get basic dataframe libraries\n",
    "import pandas as pd\n",
    "import numpy as np\n",
    "\n",
    "#get libraries to help url gets (for Beautiful Soup, FourSquare, etc)\n",
    "import json\n",
    "import requests\n",
    "from pandas.io.json import json_normalize\n",
    "\n",
    "#get mapping & charting libraries\n",
    "%matplotlib inline \n",
    "import matplotlib.cm as cm\n",
    "import matplotlib.colors as colors\n",
    "import matplotlib as mpl\n",
    "import matplotlib.patches as mpatches\n",
    "import matplotlib.pyplot as plt\n",
    "\n",
    "plt.style.use('ggplot')\n",
    "mpl.style.use('ggplot') \n",
    "import folium\n",
    "from folium import plugins\n",
    "from folium.map import Layer\n",
    "\n",
    "#import to control fig rendering space (helps with desktop and html)\n",
    "from branca.element import Figure\n",
    "\n",
    "from sklearn.cluster import KMeans\n",
    "from sklearn.preprocessing import StandardScaler\n",
    "\n",
    "!conda install -c conda-forge geocoder --yes\n",
    "import geocoder \n",
    "\n",
    "from geopy.geocoders import Nominatim\n",
    "\n",
    "from bs4 import BeautifulSoup\n",
    "\n",
    "#to get rid of special characters from web pages, if necessary\n",
    "import string\n",
    "ValidChar = string.ascii_letters+string.punctuation\n",
    "\n",
    "#I'm using my Macbook Anaconda Jupyter environment so need wget\n",
    "import wget\n"
   ]
  },
  {
   "cell_type": "markdown",
   "metadata": {},
   "source": [
    "Create a dataframe of districts (of which there are 14) and associated data from the sources listed in the Data section above.  \n",
    "\n",
    "Seed the dataframe using one of the Ballotpedia tables (there are a few tables in the page; use the \"Electoral Margins of Victory...\") via BeautifulSoup:"
   ]
  },
  {
   "cell_type": "code",
   "execution_count": null,
   "metadata": {},
   "outputs": [],
   "source": [
    "url=\"https://en.wikipedia.org/wiki/2018_United_States_House_of_Representatives_elections_in_Georgia\"\n",
    "req = requests.get(url)\n",
    "soup = BeautifulSoup(req.content,'lxml')\n"
   ]
  },
  {
   "cell_type": "code",
   "execution_count": null,
   "metadata": {},
   "outputs": [],
   "source": [
    "#grab the 14th table format in the webpage and convert to a dataframe\n",
    "table = soup.find_all('table')[13]\n",
    "\n",
    "table_list = pd.read_html(str(table))\n",
    "df_districts=pd.DataFrame(table_list[0])\n",
    "\n",
    "#df_districts.head()"
   ]
  },
  {
   "cell_type": "markdown",
   "metadata": {},
   "source": [
    "Clean this dataframe up a bit:\n",
    "- replace column labels, \n",
    "- drop \"Top opponent\"s, \"Georgia\" and \"%\",  \n",
    "- convert VictoryMargin to float % and \n",
    "- convert VotesCast to int\n",
    "- add text reflecting political party of district"
   ]
  },
  {
   "cell_type": "code",
   "execution_count": null,
   "metadata": {
    "scrolled": true
   },
   "outputs": [],
   "source": [
    "df_districts.columns = ['District', 'Republican Votes', 'Republican%',\n",
    "                        'Democratic Votes', 'Democratic%', \n",
    "                        'Other Votes','Other%', 'Total Votes', \n",
    "                        'Total%', 'Election summary'] \n",
    "\n",
    "todrop = ['Republican%', 'Democratic%', 'Other Votes', \n",
    "          'Other%', 'Total Votes', 'Total%']\n",
    "df_districts.drop(todrop, axis=1, inplace=True)\n",
    "df_districts.drop([14], axis=0, inplace=True)\n"
   ]
  },
  {
   "cell_type": "code",
   "execution_count": null,
   "metadata": {},
   "outputs": [],
   "source": [
    "district_cols = df_districts.columns\n",
    "\n",
    "df_districts['District'].str.strip(ValidChar).astype(bool).any()\n",
    "df_districts['Election summary'].str.strip(ValidChar).astype(bool).any()\n",
    "\n",
    "df_districts['District'] = \\\n",
    "  df_districts['District'].str.replace(\"District \",\"\")\n",
    "\n",
    "df_districts['District'] = \\\n",
    "  df_districts['District'].astype(str).astype(int)\n",
    "\n",
    "df_districts[district_cols[1:2]] = \\\n",
    "  df_districts[district_cols[1:2]].astype(str).astype(int)\n",
    "\n",
    "#add column to describe voting result margin, Republican - Democrat\n",
    "df_districts['Rep-Dem Margin'] = \\\n",
    "  df_districts['Republican Votes'] - df_districts['Democratic Votes']\n"
   ]
  },
  {
   "cell_type": "code",
   "execution_count": null,
   "metadata": {},
   "outputs": [],
   "source": [
    "df_districts['Party']=None\n",
    "\n",
    "for i, margin in enumerate(df_districts['Rep-Dem Margin']):\n",
    "    if margin >0:\n",
    "        df_districts.iloc[i, df_districts.columns.get_loc('Party')] = \\\n",
    "          \"Republican\"\n",
    "    elif margin <0:\n",
    "        df_districts.iloc[i, df_districts.columns.get_loc('Party')] = \\\n",
    "          \"Democratic\"\n",
    "    else:\n",
    "        df_districts.iloc[i, df_districts.columns.get_loc('Party')] = \\\n",
    "          \"Error\"    \n",
    "    \n",
    "print('Shape: ', df_districts.shape)\n",
    "df_districts.head(3)"
   ]
  },
  {
   "cell_type": "markdown",
   "metadata": {},
   "source": [
    "Add the voting data by ethnicity, following the same process as done for the dataframe seeding above:"
   ]
  },
  {
   "cell_type": "code",
   "execution_count": null,
   "metadata": {},
   "outputs": [],
   "source": [
    "#grab the 11th table format in the BallotPedia webpage and convert \n",
    "#to a dataframe\n",
    "url2=\"https://ballotpedia.org/Redistricting_in_Georgia\"\n",
    "\n",
    "req = requests.get(url2)\n",
    "soup = BeautifulSoup(req.content,'lxml')\n",
    "table = soup.find_all('table')[10]\n",
    "\n",
    "table_list = pd.read_html(str(table))\n",
    "df_demogs = pd.DataFrame(table_list[0])\n",
    "\n",
    "#df_demogs.head(3)\n"
   ]
  },
  {
   "cell_type": "markdown",
   "metadata": {},
   "source": [
    "...and as with previous load, clean this table:"
   ]
  },
  {
   "cell_type": "code",
   "execution_count": null,
   "metadata": {},
   "outputs": [],
   "source": [
    "#remove header from column labels by renaming columns\n",
    "demog_columns = ['Distr', 'Hispanic or Latino of any race', \\\n",
    "                    'White', 'Black or African American', \\\n",
    "                    'American Indian and Alaska Native', 'Asian', \\\n",
    "                    'Native Hawaiian and other Pacific Islander', \\\n",
    "                    'Other', 'Multiple races', 'todrop0']\n",
    "df_demogs.columns = demog_columns\n"
   ]
  },
  {
   "cell_type": "code",
   "execution_count": null,
   "metadata": {
    "scrolled": true
   },
   "outputs": [],
   "source": [
    "#get rid of superfluous or special characters\n",
    "df_demogs['Distr'].str.strip(ValidChar).astype(bool).any()\n",
    "\n",
    "df_demogs['Distr'] = \\\n",
    "  df_demogs['Distr'].str.replace(\", Georgia\",\"\")\n",
    "df_demogs['Distr'] = \\\n",
    "  df_demogs['Distr'].str.replace(\"District\",\"\")\n",
    "\n",
    "#get rid of superfluous row and column\n",
    "df_demogs.drop([14], axis=0, inplace=True)\n",
    "df_demogs.drop(['todrop0'], axis=1, inplace=True)\n"
   ]
  },
  {
   "cell_type": "code",
   "execution_count": null,
   "metadata": {},
   "outputs": [],
   "source": [
    "#convert values to int (for later)\n",
    "demog_columns = df_demogs.columns\n",
    "\n",
    "df_demogs[demog_columns[1:]] = \\\n",
    "  df_demogs[demog_columns[1:]].astype(str).astype(int)\n",
    "\n",
    "df_demogs['Distr'] = df_demogs['Distr'].astype(str).astype(int)\n",
    "\n",
    "df_demogs.head(3)\n"
   ]
  },
  {
   "cell_type": "markdown",
   "metadata": {},
   "source": [
    "Merge the demographics df into the main df (df_districts_merged):"
   ]
  },
  {
   "cell_type": "code",
   "execution_count": null,
   "metadata": {
    "scrolled": true
   },
   "outputs": [],
   "source": [
    "df_districts_merged = pd.merge(left=df_districts, right=df_demogs, \n",
    "                        left_on='District', right_on='Distr')\n",
    "\n",
    "df_districts_merged.drop(['Distr'], axis=1, inplace=True)\n",
    "\n",
    "print('shape: ', df_districts_merged.shape)\n",
    "df_districts_merged.head(3)\n"
   ]
  },
  {
   "cell_type": "markdown",
   "metadata": {},
   "source": [
    "Add the district data on education, age, and poverty for districts in Georgia (\"GA\") in the cells below, cleansing as appropriate:"
   ]
  },
  {
   "cell_type": "code",
   "execution_count": null,
   "metadata": {},
   "outputs": [],
   "source": [
    "#pull education data\n",
    "url_ed = \\\n",
    " \"https://www2.census.gov/programs-surveys/demo/tables/voting/table02c.xlsx\"\n",
    "\n",
    "df_education = pd.read_excel(url_ed, skiprows=range(3))\n",
    "\n",
    "column_names = df_education.columns.values\n",
    "column_names[1] = \"State\"\n",
    "column_names[3] = \"Districttodrop\"\n",
    "df_education.columns = column_names\n"
   ]
  },
  {
   "cell_type": "code",
   "execution_count": null,
   "metadata": {
    "scrolled": true
   },
   "outputs": [],
   "source": [
    "tmp_df = df_education[['State', 'Districttodrop','Less than 9th grade', \\\n",
    "                     'High school or more', \\\n",
    "                      \"Bachelor's degree or more\"]]\n",
    "\n",
    "df_ed = tmp_df[tmp_df['State'] == \"GA\"]\n"
   ]
  },
  {
   "cell_type": "code",
   "execution_count": null,
   "metadata": {},
   "outputs": [],
   "source": [
    "df_districts_merged = pd.merge(left=df_districts_merged, right=df_ed, \n",
    "                        left_on='District', right_on='Districttodrop')\n",
    "\n",
    "df_districts_merged.drop(['Districttodrop', 'State'], axis=1, inplace=True)\n",
    "\n",
    "print('shape: ', df_districts_merged.shape)\n",
    "df_districts_merged.head(3)"
   ]
  },
  {
   "cell_type": "code",
   "execution_count": null,
   "metadata": {},
   "outputs": [],
   "source": [
    "#pull age data\n",
    "url_age = \\\n",
    "  \"https://www2.census.gov/programs-surveys/demo/tables/voting/table02a.xlsx\"\n",
    "\n",
    "df_age = pd.read_excel(url_age, skiprows=range(3))\n",
    "#df_age.head()"
   ]
  },
  {
   "cell_type": "code",
   "execution_count": null,
   "metadata": {},
   "outputs": [],
   "source": [
    "cols = df_age.columns.values\n",
    "\n",
    "cols[1] = \"State\"\n",
    "cols[3] = \"Districttodrop\"\n",
    "cols[4] = \"Voting Pop\"\n",
    "df_age.columns = cols\n"
   ]
  },
  {
   "cell_type": "code",
   "execution_count": null,
   "metadata": {},
   "outputs": [],
   "source": [
    "tmp_df = df_age[['State', 'Districttodrop', 'Voting Pop', \\\n",
    "                '18-29 years old', '30-44 years old',\n",
    "                '45-64 years old', \\\n",
    "                '65 years old and older']]\n",
    "\n",
    "df_age = tmp_df[tmp_df['State'] == \"GA\"]\n"
   ]
  },
  {
   "cell_type": "code",
   "execution_count": null,
   "metadata": {
    "scrolled": true
   },
   "outputs": [],
   "source": [
    "df_districts_merged = pd.merge(left=df_districts_merged, right=df_age, \n",
    "                        left_on='District', right_on='Districttodrop')\n",
    "\n",
    "df_districts_merged.drop(['Districttodrop', 'State'], axis=1, inplace=True)\n",
    "\n",
    "print('shape: ', df_districts_merged.shape)\n",
    "df_districts_merged.head(3)"
   ]
  },
  {
   "cell_type": "code",
   "execution_count": null,
   "metadata": {},
   "outputs": [],
   "source": [
    "#pull poverty data\n",
    "url_poverty = \\\n",
    "\"https://www2.census.gov/programs-surveys/demo/tables/voting/table02b.xlsx\"\n",
    "\n",
    "df_poverty = pd.read_excel(url_poverty, skiprows=range(3))\n"
   ]
  },
  {
   "cell_type": "code",
   "execution_count": null,
   "metadata": {},
   "outputs": [],
   "source": [
    "cols = df_poverty.columns.values\n",
    "\n",
    "cols[1] = \"State\"\n",
    "cols[3] = \"Districttodrop\"\n",
    "df_poverty.columns = cols\n"
   ]
  },
  {
   "cell_type": "code",
   "execution_count": null,
   "metadata": {},
   "outputs": [],
   "source": [
    "tmp_df = df_poverty[['State', 'Districttodrop','Below poverty level']]\n",
    "\n",
    "df_poverty = tmp_df[tmp_df['State'] == \"GA\"]\n"
   ]
  },
  {
   "cell_type": "code",
   "execution_count": null,
   "metadata": {},
   "outputs": [],
   "source": [
    "df_districts_merged = pd.merge(left=df_districts_merged, \n",
    "                               right=df_poverty, \n",
    "                        left_on='District', right_on='Districttodrop')\n",
    "\n",
    "df_districts_merged.drop(['Districttodrop', 'State'], axis=1, \n",
    "                         inplace=True)\n",
    "\n",
    "print('shape: ', df_districts_merged.shape)\n",
    "df_districts_merged.head(3)"
   ]
  },
  {
   "cell_type": "code",
   "execution_count": null,
   "metadata": {},
   "outputs": [],
   "source": [
    "#Divide numbers by 1000 and create merged label for plotting charts \n",
    "#later on\n",
    "cols = df_districts_merged.columns.values\n",
    "\n",
    "df_districts_merged[cols[6:]] = df_districts_merged[cols[6:]]/1000\n",
    "\n",
    "df_districts_merged['District - Party'] = \\\n",
    "    df_districts_merged['District'].astype(str) + ' - ' + \\\n",
    "    df_districts_merged['Party']\n",
    "\n",
    "print('shape: ', df_districts_merged.shape)\n",
    "df_districts_merged.head(3)"
   ]
  },
  {
   "cell_type": "markdown",
   "metadata": {},
   "source": [
    "Add geolocations for each district (using geocoder) for later mapping and venues per district contrasting.  As there is no convenient source for district centerpoint addresses, district address information was sourced from individual congressional representative websites (one address per district, using first address in \"Office Location\" pages)"
   ]
  },
  {
   "cell_type": "code",
   "execution_count": null,
   "metadata": {},
   "outputs": [],
   "source": [
    "csv_path=\"/Users/jtege/Documents/Coursera IBM Data Sci Spec/9. Applied Data Science Capstone/Coursera_Capstone/georgia_distr_addr.csv\"\n",
    "temp_df=pd.read_csv(csv_path)\n"
   ]
  },
  {
   "cell_type": "code",
   "execution_count": null,
   "metadata": {
    "scrolled": true
   },
   "outputs": [],
   "source": [
    "df = temp_df\n",
    "cols = df.columns.values\n",
    "cols[0] = \"Distr\"\n",
    "cols[1] = \"rep\"\n",
    "df.columns = cols\n",
    "df['Latitude']=None\n",
    "df['Longitude']=None\n"
   ]
  },
  {
   "cell_type": "code",
   "execution_count": null,
   "metadata": {
    "scrolled": true
   },
   "outputs": [],
   "source": [
    "#Load the longitudes and latitudes for the various district offices\n",
    "\n",
    "for i, office in enumerate(df['DistrictOffice']):\n",
    "    g = geocoder.arcgis(office)\n",
    "    df.iloc[i, df.columns.get_loc('Latitude')] = g.latlng[0]\n",
    "    df.iloc[i, df.columns.get_loc('Longitude')] = g.latlng[1]\n",
    "\n",
    "df.head(3)"
   ]
  },
  {
   "cell_type": "code",
   "execution_count": null,
   "metadata": {},
   "outputs": [],
   "source": [
    "df_districts_merged = \\\n",
    "  pd.merge(left=df_districts_merged, right=df, \n",
    "                        left_on='District', right_on='Distr')\n",
    "\n",
    "df_districts_merged.drop(['Distr', 'rep', 'DistrictOfficeAddr'], \n",
    "                         axis=1, inplace=True)\n",
    "\n",
    "print('shape: ', df_districts_merged.shape)\n",
    "df_districts_merged.head(3)"
   ]
  },
  {
   "cell_type": "code",
   "execution_count": null,
   "metadata": {},
   "outputs": [],
   "source": [
    "#set associated party colors (handy for visualisations later) \n",
    "\n",
    "df_districts_merged['party_color']=\"\"\n",
    "\n",
    "df_districts_merged.loc[(df_districts_merged['Party'] == \n",
    "            \"Republican\"), 'party_color'] = \"indianred\"\n",
    "\n",
    "df_districts_merged.loc[(df_districts_merged['Party'] == \n",
    "            \"Democratic\"), 'party_color'] = \"cornflowerblue\""
   ]
  },
  {
   "cell_type": "code",
   "execution_count": null,
   "metadata": {
    "scrolled": false
   },
   "outputs": [],
   "source": [
    "df_districts_merged.head(3)"
   ]
  },
  {
   "cell_type": "markdown",
   "metadata": {},
   "source": [
    "***********************************************************************"
   ]
  },
  {
   "cell_type": "markdown",
   "metadata": {},
   "source": [
    "<h3 align=left><font size = 3>Step 2 - Data visualisation and Analysis:</font></h3>\n",
    "\n",
    "***Chart observations to evaluate districts that may be of most interest to campaign advisors and consultants.***\n"
   ]
  },
  {
   "cell_type": "code",
   "execution_count": null,
   "metadata": {},
   "outputs": [],
   "source": [
    "#show ethnicity across districts.  Consolidate smaller columns\n",
    "#into the 'Other' category strictly for bar chart formatting (not\n",
    "#because the numbers aren't important)\n",
    "cols=['District - Party', 'Hispanic or Latino of any race', \n",
    "     'White', 'Black or African American',\n",
    "      'American Indian and Alaska Native',\n",
    "     'Asian', 'Native Hawaiian and other Pacific Islander',\n",
    "     'Other', 'Multiple races']\n",
    "\n",
    "#df_ethnicity = pd.DataFrame(columns=cols)\n",
    "df_ethnicity = pd.DataFrame(data=None)\n",
    "df_ethnicity[cols] = df_districts_merged[cols]\n",
    "\n",
    "df_ethnicity['Other'] = df_ethnicity['Other'] + \\\n",
    "    df_ethnicity['American Indian and Alaska Native'] + \\\n",
    "    df_ethnicity['Native Hawaiian and other Pacific Islander'] + \\\n",
    "    df_ethnicity['Multiple races']\n",
    "\n",
    "df_ethnicity.drop(['American Indian and Alaska Native',\n",
    "                  'Native Hawaiian and other Pacific Islander',\n",
    "                  'Multiple races'], axis=1, inplace=True)\n",
    "\n",
    "#and add % for later df display\n",
    "cols = df_ethnicity.columns.values\n",
    "ethnicity_tot = df_ethnicity[cols[1:]].sum(axis=1)\n",
    "\n",
    "df_ethnicity['Hispanic/ Latino %'] = \\\n",
    "    ( (df_ethnicity['Hispanic or Latino of any race'] / \\\n",
    "     ethnicity_tot) * 100).round(2)\n",
    "df_ethnicity['White %'] = ( (df_ethnicity['White'] / \\\n",
    "     ethnicity_tot) * 100).round(2)\n",
    "df_ethnicity['Black/ African American %'] = \\\n",
    "    ( (df_ethnicity['Black or African American'] / \\\n",
    "     ethnicity_tot) * 100).round(2)\n",
    "df_ethnicity['Asian %'] = ( (df_ethnicity['Asian'] / \\\n",
    "     ethnicity_tot) * 100).round(2)\n",
    "df_ethnicity['Other %'] = ( (df_ethnicity['Other'] / \\\n",
    "     ethnicity_tot) * 100).round(2)\n"
   ]
  },
  {
   "cell_type": "code",
   "execution_count": null,
   "metadata": {
    "scrolled": false
   },
   "outputs": [],
   "source": [
    "cols=['District - Party', 'Hispanic or Latino of any race', \n",
    "     'White', 'Black or African American',\n",
    "     'Asian', 'Other']\n",
    "\n",
    "colorlist=['coral', 'palevioletred', \n",
    "           'forestgreen', 'skyblue', 'darkseagreen'] \n",
    "\n",
    "labels = df_ethnicity['District - Party']\n",
    "\n",
    "x=np.arange(0,600,100)\n",
    "ax=df_ethnicity[cols].plot(kind='bar', \n",
    "                   figsize=(16,10), \n",
    "                   color=(colorlist))\n",
    "\n",
    "ax.set_title(\"Ethnicity by District (2015 Estimate)\",\n",
    "             fontsize=12)\n",
    "\n",
    "ax.set_yticks(x)\n",
    "\n",
    "ax.set_xticklabels(labels, fontsize=10, rotation=70)\n",
    "\n",
    "\n",
    "ax.set_xlabel(\"District / Party\", fontsize=10)\n",
    "ax.set_ylabel(\"In 000's\", fontsize=10)\n",
    "\n",
    "plt.legend(fontsize=10)\n",
    "\n",
    "plt.figure(figsize=(16,10))\n",
    "\n",
    "plt.show()"
   ]
  },
  {
   "cell_type": "code",
   "execution_count": null,
   "metadata": {
    "scrolled": false
   },
   "outputs": [],
   "source": [
    "#show top 3 districts by 'Hispanic or Latino of any race' voting \n",
    "#population size\n",
    "df_display = \\\n",
    "  df_ethnicity[['District - Party', \n",
    "              'Hispanic or Latino of any race', \n",
    "              'Hispanic/ Latino %']].sort_values(by =\n",
    "                            ('Hispanic or Latino of any race'), \\\n",
    "                         ascending=False).head(3)\n",
    "df_display.style.hide_index()"
   ]
  },
  {
   "cell_type": "code",
   "execution_count": null,
   "metadata": {},
   "outputs": [],
   "source": [
    "#show top 3 districts by 'White' voting population size\n",
    "df_display = df_ethnicity[['District - Party',\n",
    "                           'White', 'White %']].sort_values(by = \n",
    "                            ('White'), ascending=False).head(3)\n",
    "df_display.style.hide_index()"
   ]
  },
  {
   "cell_type": "code",
   "execution_count": null,
   "metadata": {},
   "outputs": [],
   "source": [
    "#show top 3 districts by 'Black or African American' voting population \n",
    "#size\n",
    "df_display = df_ethnicity[['District - Party',\n",
    "              'Black or African American', \n",
    "             'Black/ African American %']].sort_values(by = \n",
    "                         ('Black or African American'), \\\n",
    "                         ascending=False).head(3)\n",
    "df_display.style.hide_index()"
   ]
  },
  {
   "cell_type": "code",
   "execution_count": null,
   "metadata": {},
   "outputs": [],
   "source": [
    "#show top 3 districts by 'Asian' and 'Other' voting population sizes\n",
    "df_display = df_ethnicity[['District - Party','Asian', \n",
    "                           'Other', 'Asian %', \n",
    "                          'Other %']].sort_values(by = \n",
    "                         (['Asian', 'Other']), \\\n",
    "                         ascending=False).head(3)\n",
    "df_display.style.hide_index()"
   ]
  },
  {
   "cell_type": "markdown",
   "metadata": {},
   "source": [
    "Data shows that, broadly speaking, districts with a higher number of white constituents relative to the rest of the district population tend to have elected a Republican candidate and districts with a higher number of black constituents tend to have elected a Democratic candidate.  The exception is District 6, where the number of white constituents relative to the rest of the district population is greatest.  "
   ]
  },
  {
   "cell_type": "code",
   "execution_count": null,
   "metadata": {
    "scrolled": false
   },
   "outputs": [],
   "source": [
    "#show education across districts\n",
    "cols=['District - Party', 'Less than 9th grade', \n",
    "      'High school or more',\n",
    "       \"Bachelor's degree or more\"]\n",
    "\n",
    "colorlist=['lightcoral', 'mediumseagreen', 'orchid']\n",
    "\n",
    "labels = df_districts_merged['District - Party']\n",
    "\n",
    "x=np.arange(0,600,100)\n",
    "ax=df_districts_merged[cols].plot(kind='bar', \n",
    "                   figsize=(16,10), \n",
    "                   color=(colorlist))\n",
    "\n",
    "ax.set_title(\"Education by District (2018 census data)\",\n",
    "             fontsize=12)\n",
    "\n",
    "ax.set_yticks(x)\n",
    "\n",
    "ax.set_xticklabels(labels, fontsize=12, rotation=70)\n",
    "\n",
    "\n",
    "ax.set_xlabel(\"District / Party\", fontsize=10)\n",
    "ax.set_ylabel(\"In 000's\", fontsize=10)\n",
    "\n",
    "plt.legend(fontsize=10)\n",
    "\n",
    "plt.figure(figsize=(16,10))\n",
    "\n",
    "plt.show()"
   ]
  },
  {
   "cell_type": "code",
   "execution_count": null,
   "metadata": {},
   "outputs": [],
   "source": [
    "df_display = pd.DataFrame(data=None)"
   ]
  },
  {
   "cell_type": "code",
   "execution_count": null,
   "metadata": {},
   "outputs": [],
   "source": [
    "#show top 3 districts with highest education attainment\n",
    "\n",
    "df_display = df_districts_merged[cols].sort_values(by = \n",
    "                    (\"Bachelor's degree or more\"), \\\n",
    "                                      ascending = False)\n",
    "df_display = df_display[['District - Party', \n",
    "                         \"Bachelor's degree or more\"]].head(3)\n",
    "df_display.style.hide_index()"
   ]
  },
  {
   "cell_type": "code",
   "execution_count": null,
   "metadata": {},
   "outputs": [],
   "source": [
    "#show the 3 districts with least education (highest below 9th grade)\n",
    "df_display = pd.DataFrame(data=None)\n",
    "df_display = df_districts_merged[cols].sort_values(by = \n",
    "                    ('Less than 9th grade'), \\\n",
    "                                      ascending = False)\n",
    "df_display = df_display.head(3)\n",
    "df_display[['District - Party',\n",
    "            'Less than 9th grade']].style.hide_index()"
   ]
  },
  {
   "cell_type": "markdown",
   "metadata": {},
   "source": [
    "Data shows that District 6 has the highest number of college graduates, whilst District 9 has the highest number of people who did not enter highschool.  "
   ]
  },
  {
   "cell_type": "code",
   "execution_count": null,
   "metadata": {},
   "outputs": [],
   "source": [
    "#show voting age demographics across districts\n",
    "cols=['District - Party', '18-29 years old', '30-44 years old', \n",
    "       '45-64 years old', '65 years old and older']\n",
    "\n",
    "colorlist=['lightcoral', 'mediumseagreen', 'orchid', 'deepskyblue']\n",
    "\n",
    "labels = df_districts_merged['District - Party'] \n",
    "\n",
    "x=np.arange(0,350,50)\n",
    "ax=df_districts_merged[cols].plot(kind='bar', \n",
    "                   figsize=(16,10), \n",
    "                   color=(colorlist))\n",
    "\n",
    "ax.set_title(\"Age by District (2018 census data)\",\n",
    "             fontsize=12)\n",
    "\n",
    "ax.set_yticks(x)\n",
    "\n",
    "ax.set_xticklabels(labels, fontsize=10, rotation=70)\n",
    "\n",
    "\n",
    "ax.set_xlabel(\"District / Party\", fontsize=10)\n",
    "ax.set_ylabel(\"In 000's\", fontsize=10)\n",
    "\n",
    "plt.legend(fontsize=10)\n",
    "\n",
    "plt.figure(figsize=(16,10))\n",
    "\n",
    "plt.show()\n"
   ]
  },
  {
   "cell_type": "code",
   "execution_count": null,
   "metadata": {},
   "outputs": [],
   "source": [
    "#add the relative voting by age\n",
    "df_rel_voting = pd.DataFrame(data=None) \n",
    "\n",
    "df_rel_voting['District - Party'] = \\\n",
    "    df_districts_merged['District - Party']\n",
    "\n",
    "df_rel_voting['18-29 years old %'] = \\\n",
    "    ((df_districts_merged['18-29 years old'] / \\\n",
    "      df_districts_merged['Voting Pop']) * 100).astype(float).round(2)\n",
    "\n",
    "df_rel_voting['30-44 years old %'] = \\\n",
    "    ((df_districts_merged['30-44 years old'] / \\\n",
    "      df_districts_merged['Voting Pop']) * 100).astype(float).round(2)\n",
    "\n",
    "df_rel_voting['45-64 years old %'] = \\\n",
    "    ((df_districts_merged['45-64 years old'] / \\\n",
    "      df_districts_merged['Voting Pop']) * 100).astype(float).round(2)\n",
    "\n",
    "df_rel_voting['65 years old and older %'] = \\\n",
    "    ((df_districts_merged['65 years old and older'] / \\\n",
    "      df_districts_merged['Voting Pop']) * 100).astype(float).round(2)\n",
    "\n",
    "df_rel_voting['Total Voting-Aged Pop (000s)'] = \\\n",
    "    df_districts_merged['Voting Pop']\n"
   ]
  },
  {
   "cell_type": "code",
   "execution_count": null,
   "metadata": {},
   "outputs": [],
   "source": [
    "#show top 3 districts for 18-29 year old voting population %\n",
    "df_display = df_rel_voting[['District - Party',\n",
    "                            '18-29 years old %']].sort_values(by=\n",
    "                    ('18-29 years old %'), ascending=False).head(3)\n",
    "df_display.style.hide_index()"
   ]
  },
  {
   "cell_type": "code",
   "execution_count": null,
   "metadata": {},
   "outputs": [],
   "source": [
    "#show top 3 districts for 30-44 year old voting population %\n",
    "df_display = df_rel_voting[['District - Party',\n",
    "                            '30-44 years old %']].sort_values(by=\n",
    "                    ('30-44 years old %'), ascending=False).head(3)\n",
    "df_display.style.hide_index()"
   ]
  },
  {
   "cell_type": "code",
   "execution_count": null,
   "metadata": {},
   "outputs": [],
   "source": [
    "#show top 3 districts for 45-64 year old voting population %\n",
    "df_display = df_rel_voting[['District - Party',\n",
    "                            '45-64 years old %']].sort_values(by=\n",
    "                    ('45-64 years old %'), ascending=False).head(3)\n",
    "df_display.style.hide_index()"
   ]
  },
  {
   "cell_type": "code",
   "execution_count": null,
   "metadata": {},
   "outputs": [],
   "source": [
    "#show top 3 districts for 45-64 year old voting population %\n",
    "df_display = df_rel_voting[['District - Party',\n",
    "                        '65 years old and older %']].sort_values(by=\n",
    "                ('65 years old and older %'), ascending=False).head(3)\n",
    "df_display.style.hide_index()"
   ]
  },
  {
   "cell_type": "markdown",
   "metadata": {},
   "source": [
    "Age data shows District 5 to have the largest voting participation from the voting-aged constituents in the 18-44 years old range whilst District 6 appears to have the greatest participation from 45-64 year old constituents and District 9 has the greatest participation from constituents 65 years and older.  "
   ]
  },
  {
   "cell_type": "code",
   "execution_count": null,
   "metadata": {
    "scrolled": false
   },
   "outputs": [],
   "source": [
    "#show relative poverty across districts\n",
    "cols=['District - Party', 'Voting Pop', 'Below poverty level']\n",
    "\n",
    "colorlist=['lightcoral', 'mediumseagreen']\n",
    "\n",
    "labels = df_districts_merged['District - Party']\n",
    "\n",
    "#plot population and poverty next to each other using 'subplot' (not taught\n",
    "#in the course, but quite handy and easy to learn from matplotlib doc)\n",
    "fig, ax=plt.subplots(ncols=2, figsize=(20,8))\n",
    "\n",
    "ytcks=np.arange(0,850,100)\n",
    "ax1=df_districts_merged['Voting Pop'].plot(kind='bar',\n",
    "                    title=\"Voting Population (000s)\",\n",
    "                   color=(colorlist[0]), ax=ax[0])\n",
    "#add totals at top of bar for better visualisation\n",
    "for i in ax1.patches:\n",
    "    width, height = i.get_width(), i.get_height()\n",
    "    x, y = i.get_xy() \n",
    "    ax1.annotate('{0:.1f}'.format(height), (x + -.2, y + height + 6), fontsize=10, \n",
    "                 color='black')\n",
    "ax1.set_yticks(ytcks)\n",
    "ax1.set_xticklabels(labels, fontsize=10, rotation=70)\n",
    "\n",
    "\n",
    "#plot a bar chart for each cluster's stat result\n",
    "ytcks2=np.arange(0,150,25)\n",
    "ax2=df_districts_merged['Below poverty level'].plot(kind='bar', \n",
    "    title='People living below poverty level (000s)',\n",
    "    fontsize=12, rot=0, color='cadetblue', ax=ax[1])\n",
    "#add totals at top of bar for better visualisation\n",
    "for i in ax2.patches:\n",
    "    width, height = i.get_width(), i.get_height()\n",
    "    x, y = i.get_xy() \n",
    "    ax2.annotate('{:}'.format(height), (x - 0.2, y + height + 1.0), fontsize=10, \n",
    "                 color='black')\n",
    "ax2.set_yticks(ytcks2)\n",
    "ax2.set_xticklabels(labels, fontsize=10, rotation=70)\n",
    "\n",
    "plt.figure(figsize=(16,10))\n",
    "\n",
    "plt.show()"
   ]
  },
  {
   "cell_type": "markdown",
   "metadata": {},
   "source": [
    "#show the 3 districts with highest poverty levels\n",
    "\n",
    "df_display = \\\n",
    "    df_districts_merged[cols].sort_values(by=('Below poverty level'), \\\n",
    "                                     ascending = False)\n",
    "df_display = df_display.head(3)\n",
    "df_display.rename({'Voting Pop':'Voting Pop (000s)'}, axis=1, \n",
    "                  inplace=True)\n",
    "df_display.rename({'Below poverty level':'Below poverty level (000s)'}, \n",
    "                  axis=1, inplace=True)\n",
    "df_display.style.hide_index()"
   ]
  },
  {
   "cell_type": "markdown",
   "metadata": {},
   "source": [
    "#show the 3 districts with lowest poverty levels, lowest first\n",
    "df_display = \\\n",
    "  df_districts_merged[cols].sort_values(by=('Below poverty level'), \\\n",
    "                                     ascending = True)\n",
    "df_display.rename({'Voting Pop':'Voting Pop (000s)'}, axis=1, \n",
    "                  inplace=True)\n",
    "df_display.rename({'Below poverty level':'Below poverty level (000s)'},\n",
    "                  axis=1, inplace=True)\n",
    "df_display=df_display.head(3)\n",
    "df_display.style.hide_index()"
   ]
  },
  {
   "cell_type": "markdown",
   "metadata": {},
   "source": [
    "Poverty data shows highest levels of poverty in Districts 2, 8, 5, with Districts 10 & 12 in close proximity to District 5.  Districts 2 and 5 are Democratic and Districts 8, 10 and 12 are Republican, suggesting that poverty level is not necessarily a party vote differentiator.  Note that District 6 appears to have the lowest level of poverty in Georgia.  "
   ]
  },
  {
   "cell_type": "code",
   "execution_count": null,
   "metadata": {},
   "outputs": [],
   "source": [
    "#show the election victory margins for each district, to help focus\n",
    "#analysis\n",
    "df_display=pd.DataFrame(data=None)\n",
    "df_display = df_districts_merged[['District - Party', \n",
    "                                  'Election summary', \n",
    "                                  'Republican Votes',\n",
    "                                'Democratic Votes', \n",
    "                                  'Rep-Dem Margin']].copy()\n",
    "\n",
    "df_display.style.hide_index()"
   ]
  },
  {
   "cell_type": "markdown",
   "metadata": {},
   "source": [
    "Based on data visualised and analysis thus far, interesting districts for campaign advisor priority review are:\n",
    "- District 6 - unusual race demographic relative to political party elected, highest number of voters aged between 45-64 years old, highest educational attainment and lowest poverty level.  It is also the only district to have elected a different party in 2018, albeit by the second narrowest margin.\n",
    "- District 2 - highest poverty level, lowest educational attainment\n",
    "- District 9 - highest population of white voters, lowest educational attainment, greatest percentage of older voters (65 and older) and largest election victory margin (discounting unopposed elections in Districts 5 & 8)."
   ]
  },
  {
   "cell_type": "markdown",
   "metadata": {},
   "source": [
    "Now pull amenities data (using the FourSquare service) for all Georgia\n",
    "congressional districts to see other potentially defining characteristics across districts.  Results will be formatted into a 'top venues' chart to illustrate district similarities/differences and potential ad campaign targets."
   ]
  },
  {
   "cell_type": "code",
   "execution_count": null,
   "metadata": {
    "scrolled": false
   },
   "outputs": [],
   "source": [
    "#create new df for the venue information\n",
    "df_district_venuetypes = \\\n",
    "  df_districts_merged[['District', 'DistrictOffice', 'Party', \n",
    "                       'Voting Pop', \n",
    "                      'Latitude', 'Longitude']]\n",
    "\n",
    "print('shape: ', df_district_venuetypes.shape)\n",
    "df_district_venuetypes.head(3)"
   ]
  },
  {
   "cell_type": "code",
   "execution_count": null,
   "metadata": {},
   "outputs": [],
   "source": [
    "#load credentials\n",
    "filename1=\"/Users/jtege/Documents/Coursera IBM Data Sci Spec/9. Applied Data Science Capstone/fsq.clientid\"\n",
    "with open(filename1) as file1:\n",
    "    CLIENT_ID=file1.read()\n",
    "\n",
    "filename2=\"/Users/jtege/Documents/Coursera IBM Data Sci Spec/9. Applied Data Science Capstone/fsq.clientsec\"\n",
    "with open(filename2) as file2:\n",
    "    CLIENT_SECRET=file2.read()\n",
    "    \n",
    "#and limit the FourSquare returned data to up to 1000 venues located \n",
    "#within 3200 meters (approx 2 miles) of each district's office.\n",
    "RADIUS=3200\n",
    "LIMIT=1000\n",
    "VERSION = '20180605'"
   ]
  },
  {
   "cell_type": "code",
   "execution_count": null,
   "metadata": {},
   "outputs": [],
   "source": [
    "#convenient function to construct a venues df from a loop\n",
    "def getNearbyVenues(district, names, party, population, \n",
    "                    latitudes, longitudes, radius=500):    \n",
    "    venues_list=[]\n",
    "    for distr, name, pty, pop, lat, lng in zip(district, names, \n",
    "                                               party, population, \n",
    "                                               latitudes, longitudes):\n",
    "        print(\"district \", distr, \" \", name)            \n",
    "        url = \\\n",
    "        'https://api.foursquare.com/v2/venues/explore?&client_id={}&client_secret={}&v={}&ll={},{}&radius={}&limit={}'.format(\n",
    "            CLIENT_ID, CLIENT_SECRET, VERSION, lat, lng, radius, \n",
    "            LIMIT)            \n",
    "        results = \\\n",
    "            requests.get(url).json()[\"response\"]['groups'][0]['items']   \n",
    "        venues_list.append([(distr, name, pty, pop, lat, lng,  \n",
    "            v['venue']['name'], \n",
    "            v['venue']['location']['lat'], \n",
    "            v['venue']['location']['lng'],  \n",
    "            v['venue']['categories'][0]['name']) for v in results] )\n",
    "\n",
    "    nearby_venues = pd.DataFrame([item for venue_list in \n",
    "                                  venues_list for item in venue_list])\n",
    "    nearby_venues.columns = ['District', 'Location', 'Party', \n",
    "                            'Voting Pop', \n",
    "                            'Location Latitude', \n",
    "                            'Location Longitude', \n",
    "                            'Venue', \n",
    "                            'Venue Latitude', \n",
    "                            'Venue Longitude', \n",
    "                            'Venue Category']\n",
    "    \n",
    "    return(nearby_venues)"
   ]
  },
  {
   "cell_type": "code",
   "execution_count": null,
   "metadata": {},
   "outputs": [],
   "source": [
    "#get district venues using function defined earlier (uses \n",
    "#FourSquare)\n",
    "district_venues = \\\n",
    "  getNearbyVenues(district=df_district_venuetypes['District'],\n",
    "                  names=df_district_venuetypes['DistrictOffice'],\n",
    "                  party=df_district_venuetypes['Party'],\n",
    "                  population=df_district_venuetypes['Voting Pop'],\n",
    "                latitudes=df_district_venuetypes['Latitude'],\n",
    "                longitudes=df_district_venuetypes['Longitude'],\n",
    "                 radius=RADIUS)"
   ]
  },
  {
   "cell_type": "code",
   "execution_count": null,
   "metadata": {},
   "outputs": [],
   "source": [
    "#set a reasonable limit for the number of district preferences to \n",
    "#review (this may seem somewhat arbitrary but we have to start \n",
    "#somewhere...also I found that a 'reasonable' number helps to make \n",
    "#initial data visualisations easier to read)\n",
    "top_venues_lim = 5"
   ]
  },
  {
   "cell_type": "code",
   "execution_count": null,
   "metadata": {},
   "outputs": [],
   "source": [
    "#sort and get counts of venue categories by district/party\n",
    "df_sort = pd.DataFrame(data=None)\n",
    "\n",
    "df_sort = district_venues[['District', \n",
    "                           'Party', \n",
    "                           'Venue Category']].copy()\n",
    "\n",
    "df_sort = df_sort.sort_values(by=(['District']),\n",
    "                                ascending=True).reset_index()\n",
    "\n",
    "df_sort = df_sort.groupby(['District', 'Party', 'Venue Category'],\n",
    "                                  as_index=False).count()\n",
    "df_sort = df_sort.sort_values(by=(['District', 'index']),\n",
    "                             ascending=False)\n",
    "\n",
    "df_sort = df_sort.reset_index()\n",
    "\n",
    "districts = []\n",
    "districts = df_sort['District'].unique()\n",
    "\n",
    "df_tops = pd.DataFrame(data = None)\n",
    "\n",
    "#quick and dirty loop to get the top 'n' venues data for each district\n",
    "for distr in districts:\n",
    "    df_temp0 = pd.DataFrame(data=None)\n",
    "    df_temp0 = df_temp0.append(df_sort.loc[df_sort['District']==distr])\n",
    "    df_temp1 = df_temp0.head(top_venues_lim)\n",
    "    df_tops = df_tops.append(df_temp1)\n",
    "\n",
    "df_tops=df_tops.rename({'index':'Venue Count'}, axis=1)\n",
    "\n",
    "df_tops.head(3)"
   ]
  },
  {
   "cell_type": "markdown",
   "metadata": {},
   "source": [
    "Plot the venue data in a stacked bar chart to illustrate preferences by district."
   ]
  },
  {
   "cell_type": "code",
   "execution_count": null,
   "metadata": {},
   "outputs": [],
   "source": [
    "#set color range depending on how many venue categories are in the df\n",
    "#(this technique was applied in the Course 9 kmeans lab).\n",
    "\n",
    "unique_categories = len(df_tops['Venue Category'].unique())\n",
    "x = np.arange(unique_categories)\n",
    "\n",
    "ys = [i + x + (i*x)**2 for i in range(unique_categories)]\n",
    "colors_array = cm.rainbow(np.linspace(0, 1, len(ys)))\n",
    "rainbow = [colors.rgb2hex(i) for i in colors_array]\n",
    "\n",
    "df_cats=pd.DataFrame(data=None)\n",
    "df_cats['cat'] = df_tops['Venue Category'].unique()\n",
    "df_cats = df_cats.sort_values(by=['cat'], \n",
    "                              ascending = True).reset_index()\n",
    "\n",
    "#now add rainbow colours to the categories\n",
    "df_cats['colour'] = rainbow\n",
    "\n",
    "#df_cats.head(3)"
   ]
  },
  {
   "cell_type": "code",
   "execution_count": null,
   "metadata": {},
   "outputs": [],
   "source": [
    "#set up bar chart object by looping through district venue data, \n",
    "#plotting each district's bar for that category using a colour from \n",
    "#the colour mapping we've just set up\n",
    "\n",
    "#set these variables to help stack the bars properly, then loop\n",
    "#to add each venue category total onto the district bar\n",
    "prevbot=0\n",
    "saved=\"\"\n",
    "for distr, category, count in zip(df_tops['District'], \n",
    "                                    df_tops['Venue Category'],\n",
    "                                    df_tops['Venue Count']):\n",
    "#    print ('i: ', i, ' ', distr, ' ', category, ' ', count)\n",
    "    catcol = df_cats['colour'].loc[df_cats['cat']==category]\n",
    "    if distr != saved:\n",
    "        plt.bar(distr, count, width = 0.5, bottom = 0, color=catcol)\n",
    "        prevbot = count\n",
    "        saved = distr\n",
    "    else:\n",
    "        plt.bar(distr, count, width = 0.5, bottom = prevbot,\n",
    "                color=catcol)\n",
    "        prevbot = prevbot + count\n",
    "    \n",
    "plt.title(\n",
    "    \"Venues in Common across Top {} Categories by District\".format(\n",
    "        top_venues_lim),\n",
    "             fontsize=12)\n",
    "\n",
    "plt.xticks(df_tops['District'].unique(), \n",
    "                    fontsize=10)\n",
    "\n",
    "plt.xlabel(\"Districts\", fontsize=10)\n",
    "plt.ylabel(\"Venue Count\", fontsize=10)\n",
    "\n",
    "\n",
    "#due to the stacking, the legend had many duplicates; to fix this, I \n",
    "#had to reset the legend handles and colour.  \n",
    "#Also had to shift the legend outside the plot area (via 'bbox_') as \n",
    "#it is quite long despite getting rid of duplicates\n",
    "plt.legend(df_cats['cat'], fontsize=10, bbox_to_anchor=(1, 1), \n",
    "           bbox_transform=plt.gcf().transFigure)\n",
    "\n",
    "legnd=plt.gca().get_legend()\n",
    "\n",
    "for i in range(unique_categories):\n",
    "    legnd.legendHandles[i].set_color(df_cats['colour'][i])\n",
    "\n",
    "plt.figure(figsize=(16,10))\n",
    "\n",
    "plt.show()"
   ]
  },
  {
   "cell_type": "markdown",
   "metadata": {},
   "source": [
    "This chart reflects numbers of venues of the top venue types per district, as returned from FourSquare (limited to 1000 entries per district within 3200 meters, approx. 2 miles, of the district head office).  The data suggests that there are certain venue preferences in common across a number of districts, for example, Fast Food restaurants, American restaurants and Sandwich places).  These venues may be of particular use during capaign advertisement placement selection.   "
   ]
  },
  {
   "cell_type": "markdown",
   "metadata": {},
   "source": [
    "***********************************************************************"
   ]
  },
  {
   "cell_type": "markdown",
   "metadata": {},
   "source": [
    "<h3 align=left><font size = 3>Step 3 - Iterate: repeat Data Sourcing,  Visualisation and Analysis for Counties:</font></h3>\n",
    "\n",
    "***Gather data by county that could inform other means of grouping voters than the currently-gerrymandered district borders.  This 'new' view of voters can help direct the focus of campaign advisors and consultants.***"
   ]
  },
  {
   "cell_type": "markdown",
   "metadata": {},
   "source": [
    "Obtain county information on voter population size, age ranges and income levels in each county to use as features in clustering later _(note: unfortunately I could not source equivalent information on 'education')._"
   ]
  },
  {
   "cell_type": "code",
   "execution_count": null,
   "metadata": {},
   "outputs": [],
   "source": [
    "#pull per-capita personal income (line 110), \n",
    "#except 'GeoName' = \"Georgia\"\n",
    "csv_path=\"/Users/jtege/Documents/Coursera IBM Data Sci Spec/9. Applied Data Science Capstone/Coursera_Capstone/CAINC30_GA_1969_2018.csv\"\n",
    "df_temp=pd.read_csv(csv_path)\n",
    "\n",
    "df_temp = df_temp.loc[ (\n",
    "    (df_temp['GeoName'] != \"Georgia\") & (df_temp['LineCode'] == 110) ) ]\n"
   ]
  },
  {
   "cell_type": "code",
   "execution_count": null,
   "metadata": {},
   "outputs": [],
   "source": [
    "#prep counties income data\n",
    "df_counties_merged = pd.DataFrame(data=None)\n",
    "\n",
    "df_counties_merged = df_temp[['GeoName', '2018']].copy()\n",
    "\n",
    "cols=['County', '2018 Per Capita Income (000s)'] \n",
    "\n",
    "df_counties_merged.columns = cols\n",
    "\n",
    "df_counties_merged['2018 Per Capita Income (000s)'] = \\\n",
    "  (df_counties_merged['2018 Per Capita Income (000s)'] / 1000).round(2)\n",
    "\n",
    "\n",
    "#make County upper case for later merging with other upper case data\n",
    "df_counties_merged['County'] = \\\n",
    "    df_counties_merged['County'].apply(lambda x: x.upper())\n",
    "\n",
    "df_counties_merged.head(3)"
   ]
  },
  {
   "cell_type": "code",
   "execution_count": null,
   "metadata": {},
   "outputs": [],
   "source": [
    "#Load the longitudes and latitudes for the various counties\n",
    "df_counties_merged['Latitude'] = None\n",
    "df_counties_merged['Longitude'] = None\n",
    "\n",
    "for i, county in enumerate(df_counties_merged['County']):\n",
    "    g = geocoder.arcgis(county)\n",
    "#    print('county: ', county)\n",
    "    df_counties_merged.iloc[ \n",
    "      i, df_counties_merged.columns.get_loc('Latitude')] = g.latlng[0]\n",
    "    df_counties_merged.iloc[\n",
    "      i, df_counties_merged.columns.get_loc('Longitude')] = g.latlng[1]\n",
    "    \n",
    "#...and then drop the Georgia suffix from county names\n",
    "df_counties_merged['County'] = \\\n",
    "    df_counties_merged['County'].str.replace(\", GA\",\"\")\n",
    "\n",
    "df_counties_merged.head(3)"
   ]
  },
  {
   "cell_type": "code",
   "execution_count": null,
   "metadata": {
    "scrolled": true
   },
   "outputs": [],
   "source": [
    "#pull 2018 demographic data by county from constructed webpage \n",
    "#(courtesy of US Census Bureau)\n",
    "url = \\\n",
    "    'http://sos.ga.gov/admin/files/Active_Voters_by_Race_Gender_and_Age_as_of_May_1_2020.xlsx'\n",
    "outfile = '/Users/jtege/Documents/Coursera IBM Data Sci Spec/9. Applied Data Science Capstone/Coursera_Capstone/Active_Voters_by_Race_Gender_and_Age_as_of_May_1_2020.xlsx'\n",
    "\n",
    "wget.download(url, outfile)\n",
    "df_county_demogs = pd.read_excel(outfile, skiprows=range(8))\n",
    "\n",
    "#get rid of county totals rows (these have NaN in certain columns)\n",
    "df_county_demogs=df_county_demogs.dropna(axis=0)\n"
   ]
  },
  {
   "cell_type": "code",
   "execution_count": null,
   "metadata": {},
   "outputs": [],
   "source": [
    "#keep slicing to minimum (for clarity) but shorten excel label names\n",
    "cols=['COUNTY ID', \n",
    "      'COUNTY NAME', \n",
    "      'VOTER AGE RANGE',\n",
    "      'AI MALE', 'AI FEM', 'AI UNK', \n",
    "      'AP MALE', 'AP FEM', 'AP UNK',\n",
    "      'BH MALE', 'BH FEM', 'BH UNK', \n",
    "      'HP MALE', 'HP FEM', 'HP UNK',\n",
    "      'WH MALE', 'WH FEM', 'WH UNK', \n",
    "      'OT MALE', 'OT FEM', 'OT UNK',\n",
    "      'UK MALE', 'UK FEM', 'UK UNK',\n",
    "        'TOTAL VOTERS']\n",
    "df_county_demogs.columns = cols\n",
    "\n",
    "df_county_demogs.head(3)"
   ]
  },
  {
   "cell_type": "code",
   "execution_count": null,
   "metadata": {},
   "outputs": [],
   "source": [
    "#prep age data, incl pivoting to make age range columns instead of rows\n",
    "\n",
    "df_age_temp = pd.DataFrame(data=None) \n",
    "\n",
    "df_age_temp = df_county_demogs[['COUNTY NAME',\n",
    "                            'VOTER AGE RANGE',\n",
    "                            'TOTAL VOTERS']]\n",
    "\n",
    "#prep age data, incl pivoting to make age range columns instead of rows\n",
    "df_age_temp = df_age_temp.pivot(index='COUNTY NAME', columns = \n",
    "    'VOTER AGE RANGE', \n",
    "     values = 'TOTAL VOTERS').reset_index().rename_axis(None, axis=1)\n",
    "\n",
    "df_age_temp.head(3)\n",
    " "
   ]
  },
  {
   "cell_type": "code",
   "execution_count": null,
   "metadata": {},
   "outputs": [],
   "source": [
    "#consolidate age ranges - follow the pattern used for the district\n",
    "#demographic analysis earlier, incl adding % for later use\n",
    "#\n",
    "\n",
    "df_age_temp['18-29 years old (000s)'] = (df_age_temp['18-24'] + \\\n",
    "                    df_age_temp['25-29']) / 1000\n",
    " \n",
    "df_age_temp['30-44 years old (000s)'] = (df_age_temp['30-34'] + \\\n",
    "                    df_age_temp['35-39'] + df_age_temp['40-44']) / 1000\n",
    "\n",
    "df_age_temp['45-64 years old (000s)'] = (df_age_temp['45-49'] + \\\n",
    "                    df_age_temp['50-54'] +\\\n",
    "                    df_age_temp['55-59'] + df_age_temp['60-64']) / 1000\n",
    "\n",
    "df_age_temp['65 years old and older (000s)']=df_age_temp['65+'] / 1000\n",
    "\n",
    "\n",
    "#drop unncesssary columns\n",
    "df_age_temp.drop(['17 1/2', '18-24', '25-29',\n",
    "                 '30-34', '35-39', '40-44',\n",
    "                 '45-49', '50-54', '55-59',\n",
    "                 '60-64', '65+'], axis=1, inplace=True)\n",
    "\n",
    "df_age_temp.head(3)"
   ]
  },
  {
   "cell_type": "code",
   "execution_count": null,
   "metadata": {},
   "outputs": [],
   "source": [
    "#prep ethnicity demographics incl column totals to use for clustering\n",
    "#(will consolidate certain data and not use the more granular columns).\n",
    "\n",
    "#below adds columns together to consolidate ethnicity detail, then\n",
    "#drops the unnec columns\n",
    "df_county_demogs['Hispanic (000s)'] = \\\n",
    "    (df_county_demogs['HP MALE'] + \\\n",
    "    df_county_demogs['HP FEM'] + \\\n",
    "    df_county_demogs['HP UNK']) / 1000\n",
    "\n",
    "df_county_demogs['White (000s)'] = \\\n",
    "    (df_county_demogs['WH MALE'] + \\\n",
    "    df_county_demogs['WH FEM'] + \\\n",
    "    df_county_demogs['WH UNK']) / 1000\n",
    "\n",
    "df_county_demogs['Black (000s)'] = \\\n",
    "    (df_county_demogs['BH MALE'] + \\\n",
    "    df_county_demogs['BH FEM'] + \\\n",
    "    df_county_demogs['BH UNK']) / 1000\n",
    "\n",
    "df_county_demogs['Asian or Pacific Isl (000s)'] = \\\n",
    "    (df_county_demogs['AP MALE'] + \\\n",
    "    df_county_demogs['AP FEM'] + \\\n",
    "    df_county_demogs['AP UNK']) / 1000\n",
    "\n",
    "df_county_demogs['Other Ethn (000s)'] = \\\n",
    "    (df_county_demogs['AI MALE'] + \\\n",
    "    df_county_demogs['AI FEM'] + \\\n",
    "    df_county_demogs['AI UNK'] + \\\n",
    "    df_county_demogs['OT MALE'] + \\\n",
    "    df_county_demogs['OT FEM'] + \\\n",
    "    df_county_demogs['OT UNK'] + \\\n",
    "    df_county_demogs['UK MALE'] + \\\n",
    "    df_county_demogs['UK FEM'] + \\\n",
    "    df_county_demogs['UK UNK']) / 1000\n",
    "\n",
    "df_county_demogs.drop([\n",
    "      'AI MALE', 'AI FEM', 'AI UNK', \n",
    "      'AP MALE', 'AP FEM', 'AP UNK',\n",
    "      'BH MALE', 'BH FEM', 'BH UNK', \n",
    "      'HP MALE', 'HP FEM', 'HP UNK',\n",
    "      'WH MALE', 'WH FEM', 'WH UNK', \n",
    "      'OT MALE', 'OT FEM', 'OT UNK',\n",
    "      'UK MALE', 'UK FEM', 'UK UNK'\n",
    "        ], axis=1, inplace=True)\n",
    "\n",
    "#now group the demographics numbers by county\n",
    "df_county_demogs = df_county_demogs.sort_values(by=\n",
    "                        ['COUNTY ID'], ascending=True)\n",
    "df_county_demogs = df_county_demogs.groupby(['COUNTY ID', \n",
    "                                            'COUNTY NAME'],\n",
    "                                           as_index = False).sum()\n",
    "\n",
    "df_county_demogs.head(3)"
   ]
  },
  {
   "cell_type": "code",
   "execution_count": null,
   "metadata": {},
   "outputs": [],
   "source": [
    "#make the TOTAL VOTERS column 000s and rename cols (for consistency)\n",
    "df_county_demogs['TOTAL VOTERS'] = \\\n",
    "    df_county_demogs['TOTAL VOTERS'] /1000\n",
    "\n",
    "df_county_demogs.rename({'TOTAL VOTERS':'Voting Pop (000s)',\n",
    "                        'COUNTY ID':'County Id'}, axis=1,\n",
    "                        inplace=True)\n"
   ]
  },
  {
   "cell_type": "code",
   "execution_count": null,
   "metadata": {},
   "outputs": [],
   "source": [
    "#merge ethnicity county demographics data\n",
    "df_counties_merged = pd.merge(left=df_counties_merged, \n",
    "                              right=df_county_demogs, \n",
    "                        left_on='County', right_on='COUNTY NAME')\n",
    "\n",
    "df_counties_merged.drop(['COUNTY NAME'], \n",
    "                        axis=1, inplace=True)\n",
    "\n",
    "df_counties_merged.head(3)"
   ]
  },
  {
   "cell_type": "code",
   "execution_count": null,
   "metadata": {},
   "outputs": [],
   "source": [
    "#and merge age demographics data\n",
    "df_counties_merged = pd.merge(left=df_counties_merged, \n",
    "                              right=df_age_temp, \n",
    "                        left_on='County', right_on='COUNTY NAME')\n",
    "\n",
    "df_counties_merged.drop(['COUNTY NAME'], \n",
    "                        axis=1, inplace=True)\n",
    "\n",
    "df_counties_merged.head(3)"
   ]
  },
  {
   "cell_type": "code",
   "execution_count": null,
   "metadata": {},
   "outputs": [],
   "source": [
    "#Lastly, add demographics percentages\n",
    "df_counties_merged['Hispanic %'] = \\\n",
    "    ((df_counties_merged['Hispanic (000s)'] / \\\n",
    "      df_counties_merged['Voting Pop (000s)']) *100).round(2)\n",
    "df_counties_merged['White %'] = \\\n",
    "    ((df_counties_merged['White (000s)'] / \\\n",
    "      df_counties_merged['Voting Pop (000s)']) *100).round(2)\n",
    "df_counties_merged['Black %'] = \\\n",
    "    ((df_counties_merged['Black (000s)'] / \\\n",
    "      df_counties_merged['Voting Pop (000s)']) *100).round(2)\n",
    "df_counties_merged['Asian or Pacific Isl %'] = \\\n",
    "    ((df_counties_merged['Asian or Pacific Isl (000s)'] / \\\n",
    "      df_counties_merged['Voting Pop (000s)']) *100).round(2)\n",
    "df_counties_merged['Other Ethn %'] = \\\n",
    "    ((df_counties_merged['Other Ethn (000s)'] / \\\n",
    "      df_counties_merged['Voting Pop (000s)']) *100).round(2)\n",
    "\n",
    "df_counties_merged['18-29 years old %'] = \\\n",
    "    ((df_counties_merged['18-29 years old (000s)'] / \n",
    "        df_counties_merged['Voting Pop (000s)']) *100).round(2)\n",
    "df_counties_merged['30-44 years old %'] = \\\n",
    "    ((df_counties_merged['30-44 years old (000s)'] / \\\n",
    "      df_counties_merged['Voting Pop (000s)']) \\\n",
    "         *100).round(2)\n",
    "df_counties_merged['45-64 years old %'] = \\\n",
    "    ((df_counties_merged['45-64 years old (000s)'] / \\\n",
    "      df_counties_merged['Voting Pop (000s)']) \\\n",
    "         *100).round(2)\n",
    "df_counties_merged['65 years old and older %'] = \\\n",
    "    ((df_counties_merged['65 years old and older (000s)'] /  \n",
    "      df_counties_merged['Voting Pop (000s)']) *100).round(2)\n",
    "\n",
    "df_counties_merged.head(3)"
   ]
  },
  {
   "cell_type": "markdown",
   "metadata": {},
   "source": [
    "***********************************************************************"
   ]
  },
  {
   "cell_type": "markdown",
   "metadata": {},
   "source": [
    "Now see what clusters are available given the county demographic features gathered above; this could yield further campaign-targetting intelligence and inform debates on the practice of gerrymandering."
   ]
  },
  {
   "cell_type": "code",
   "execution_count": null,
   "metadata": {},
   "outputs": [],
   "source": [
    "#select interesting columns to use for our kmeans clustering\n",
    "kcols=['2018 Per Capita Income (000s)', \n",
    "       'Voting Pop (000s)', 'Hispanic %', 'White %', 'Black %', \n",
    "       'Asian or Pacific Isl %', 'Other Ethn %', '18-29 years old %', \n",
    "       '30-44 years old %', '45-64 years old %', \n",
    "       '65 years old and older %']"
   ]
  },
  {
   "cell_type": "code",
   "execution_count": null,
   "metadata": {},
   "outputs": [],
   "source": [
    "#we'll set up a separate copy of the merged county data (makes it \n",
    "#easier to manipulate dataframes without unintended data consequences!)\n",
    "df_county_clusters = pd.DataFrame(data=None)\n",
    "df_county_clusters = df_counties_merged[kcols].copy()\n",
    "\n",
    "#we'll drop the categorical value\n",
    "#df_county_clusters = df_county_clusters.drop('County', axis=1)\n",
    "\n",
    "#...and we'll normalise the data (as we're using a mathematical model)\n",
    "X=df_county_clusters.values[:,1:]\n",
    "#this line is a precautionary move, in case I missed a NaN\n",
    "X=np.nan_to_num(X)\n",
    "\n",
    "#execute normaliser\n",
    "df_county_clusters = StandardScaler().fit_transform(X)\n"
   ]
  },
  {
   "cell_type": "code",
   "execution_count": null,
   "metadata": {},
   "outputs": [],
   "source": [
    "#In order to use the best 'kclusters', we'll run the kmeans algo a \n",
    "#few times, plotting the average mean distance between each datapoint\n",
    "#and its respective centroid...then we'll see which cluster produced\n",
    "#the most dramatic difference and will use that (this will require\n",
    "#computing the \"Sum of Squared differences\", referred to as 'SSE' in\n",
    "#the IBM course)\n",
    "SSE=[]\n",
    "\n",
    "#we'll test 14 kmeans cluster numbers (somewhat randomly selected...I \n",
    "#just went with the number of existing districts)\n",
    "krange = np.arange(1,14)\n"
   ]
  },
  {
   "cell_type": "code",
   "execution_count": null,
   "metadata": {},
   "outputs": [],
   "source": [
    "#execute for loop of kmeans algos, \n",
    "for knum in krange:\n",
    "    ktest = KMeans(n_clusters=knum, \\\n",
    "                random_state=0).fit(df_county_clusters)\n",
    "    SSE.append(ktest.inertia_)\n",
    "    "
   ]
  },
  {
   "cell_type": "code",
   "execution_count": null,
   "metadata": {},
   "outputs": [],
   "source": [
    "#now plot the average distance values and find the \"elbow\"\n",
    "plt.plot(krange, SSE, 'bx-')\n",
    "plt.xlabel('cluster')\n",
    "plt.ylabel('Sum of squared distances')\n",
    "plt.title('Clusters (k) for Georgia counties kmeans')\n",
    "plt.show()"
   ]
  },
  {
   "cell_type": "code",
   "execution_count": null,
   "metadata": {},
   "outputs": [],
   "source": [
    "#The test yielded an unsatisfactory result, in that the most dramatic\n",
    "#change in difference appears to be at 2, a very limited cluster \n",
    "#number, and next most dramatic seems to be 10 and 12, which are too\n",
    "#many clusters for my purposes.  I will choose the next nearest change \n",
    "#(as far as I am able to tell by visual inspection), which is 5.\n",
    "\n",
    "kclusters = 5\n",
    "\n",
    "#...then add the cluster label into list of kcols columns of interest\n",
    "kcols.append('Cluster')\n"
   ]
  },
  {
   "cell_type": "code",
   "execution_count": null,
   "metadata": {},
   "outputs": [],
   "source": [
    "#execute the kmeans clustering for real this time\n",
    "kmeans = KMeans(n_clusters=kclusters, \\\n",
    "                random_state=0).fit(df_county_clusters)\n",
    "\n",
    "klabels = kmeans.labels_\n"
   ]
  },
  {
   "cell_type": "code",
   "execution_count": null,
   "metadata": {
    "scrolled": true
   },
   "outputs": [],
   "source": [
    "#we'll add column to reflect the cluster to which a county was\n",
    "#assigned (from klabels, created after k-means executed)\n",
    "df_counties_merged['Cluster'] = None\n",
    "\n",
    "df_counties_merged['Cluster'] = klabels\n",
    "\n",
    "#check the cluster labels\n",
    "df_counties_merged['Cluster'].unique()"
   ]
  },
  {
   "cell_type": "markdown",
   "metadata": {},
   "source": [
    "Now plot certain cluster statistics (county counts, population sizes, average income, ethnicity, age ranges) from each cluster to assess defining features.  \n",
    "\n",
    "(Later, we will also plot these clusters on a Georgia map to aid our assessment)."
   ]
  },
  {
   "cell_type": "code",
   "execution_count": null,
   "metadata": {},
   "outputs": [],
   "source": [
    "#now get the count and voter population and income average in columns\n",
    "df_cluster_stats = pd.DataFrame(data=None)\n",
    "\n",
    "for i in range(0, kclusters):\n",
    "    temp=[]\n",
    "\n",
    "    temp=df_counties_merged[kcols].loc[\n",
    "            df_counties_merged['Cluster']==i].groupby(\n",
    "                df_counties_merged['Cluster']).count()\n",
    "    \n",
    "    temp['Total Voters (000s)']= \\\n",
    "        df_counties_merged['Voting Pop (000s)'].loc[\n",
    "            df_counties_merged['Cluster']==i].groupby(\n",
    "                df_counties_merged['Cluster']).sum()\n",
    "    \n",
    "    temp['2018 Per Capita Income (000s)']= \\\n",
    "        df_counties_merged['2018 Per Capita Income (000s)'].loc[\n",
    "            df_counties_merged['Cluster']==i].groupby(\n",
    "                df_counties_merged['Cluster']).mean()\n",
    "    \n",
    "    \n",
    "    df_cluster_stats=df_cluster_stats.append(temp)\n"
   ]
  },
  {
   "cell_type": "code",
   "execution_count": null,
   "metadata": {},
   "outputs": [],
   "source": [
    "#plot these stats and income next to each other using 'subplot' (not taught\n",
    "#in the course, but quite handy and easy to learn from matplotlib doc)\n",
    "\n",
    "fig, ax=plt.subplots(ncols=3, figsize=(16,6))\n",
    "\n",
    "#plot a bar chart for each cluster's stat result\n",
    "ax1=df_cluster_stats['Cluster'].plot(kind='bar', \n",
    "    title='Number of Counties',\n",
    "    fontsize=12, rot=0, color='cadetblue', ax=ax[0])\n",
    "#add totals at top of bar for better visualisation\n",
    "for i in ax1.patches:\n",
    "    width, height = i.get_width(), i.get_height()\n",
    "    x, y = i.get_xy() \n",
    "    ax1.annotate('{:}'.format(height), (x + 0.1, y + height + 1.0), fontsize=10, \n",
    "                 color='black')\n",
    "    \n",
    "#...and plot the voter totals\n",
    "ax2=df_cluster_stats['Total Voters (000s)'].plot(kind='bar', \n",
    "    title='Total Voters (000s)',\n",
    "    fontsize=12, rot=0, color='darksalmon', ax=ax[1])\n",
    "#add totals at top of bar for better visualisation\n",
    "for i in ax2.patches:\n",
    "    width, height = i.get_width(), i.get_height()\n",
    "    x, y = i.get_xy() \n",
    "    ax2.annotate('{0:.3f}'.format(height), (x - 0.2, y + height + 1.0), fontsize=10, \n",
    "                 color='black')\n",
    "\n",
    "#...and plot the voter totals\n",
    "ax3=df_cluster_stats['2018 Per Capita Income (000s)'].plot(kind='bar', \n",
    "    title='Average per capita Income (000s)',\n",
    "    fontsize=12, rot=0, color='palevioletred', ax=ax[2])\n",
    "#add totals at top of bar for better visualisation\n",
    "for i in ax3.patches:\n",
    "    width, height = i.get_width(), i.get_height()\n",
    "    x, y = i.get_xy() \n",
    "    ax3.annotate('{0:.3f}'.format(height), (x - 0.1, y + height + 1.0), fontsize=10, \n",
    "                 color='black')\n",
    "\n",
    "plt.show()"
   ]
  },
  {
   "cell_type": "markdown",
   "metadata": {},
   "source": [
    "We can see that the clusters vary in terms of number of counties and voter population size, and are mostly on par regarding average income with one exception.\n",
    "\n",
    "Cluster 3 stands out as having the largest voter population size whilst having the smallest number of counties. It also stands out as having the highest average per-capita income at 59.3k, with the other clusters roughly on par with one another (between 33.3k to 38.1k average pe capita income).\n",
    "\n",
    "Cluster 1 also stands out as having the smallest voter population size and second smallest number of constituent counties."
   ]
  },
  {
   "cell_type": "code",
   "execution_count": null,
   "metadata": {},
   "outputs": [],
   "source": [
    "#prep for remaining cluster bar charts.  Set colours and  \n",
    "#get rid of the large value voting population (skews bar charts) and\n",
    "#superfluous cluster col (cluster is the index for the plot df)\n",
    "kcols.remove(\"Voting Pop (000s)\")\n",
    "kcols.remove(\"2018 Per Capita Income (000s)\")\n",
    "kcols.remove(\"Cluster\")\n"
   ]
  },
  {
   "cell_type": "code",
   "execution_count": null,
   "metadata": {},
   "outputs": [],
   "source": [
    "#now get averages for each cluster...\n",
    "\n",
    "df_cluster_stats = pd.DataFrame(data=None)\n",
    "\n",
    "for i in range(0, kclusters):\n",
    "    temp=[]\n",
    "    temp=df_counties_merged[kcols].loc[\n",
    "                df_counties_merged['Cluster']==i].groupby(\n",
    "                        df_counties_merged['Cluster']).mean()\n",
    "    df_cluster_stats=df_cluster_stats.append([temp])\n"
   ]
  },
  {
   "cell_type": "code",
   "execution_count": null,
   "metadata": {
    "scrolled": true
   },
   "outputs": [],
   "source": [
    "#...and now plot the averages; plot a bar chart for each cluster's stat result\n",
    "fig, ax=plt.subplots(ncols=2, figsize=(16,12))\n",
    "\n",
    "#plot a bar chart for each cluster's stat result\n",
    "ax1=df_cluster_stats[['Hispanic %', 'White %', 'Black %', \n",
    "       'Asian or Pacific Isl %', 'Other Ethn %']].plot(kind='bar', \n",
    "    title=\"Average of Counties' Ethnicity Proportions\",\n",
    "    fontsize=12, rot=0, ax=ax[0], width=0.75)\n",
    "#add totals at top of bar for better visualisation\n",
    "for i in ax1.patches:\n",
    "    width, height = i.get_width(), i.get_height()\n",
    "    x, y = i.get_xy() \n",
    "    ax1.annotate('{:.1f}'.format(height), (x - 0.02, y + height + 1.0), fontsize=10, \n",
    "                 color='black')\n",
    "ytcks=np.arange(0,85,10)\n",
    "ax1.set_yticklabels(\"\")\n",
    "ax1.set_ylabel(\"%\")\n",
    "ax1.set_yticks(ytcks)\n",
    "    \n",
    "cols2=['18-29 years old %', '30-44 years old %', '45-64 years old %', \n",
    "       '65 years old and older %']\n",
    "ax2=df_cluster_stats[cols2].plot(kind='bar', \n",
    "    title=\"Average of County Voter Age Range Proportions\",\n",
    "    fontsize=12, rot=0, ax=ax[1], width=0.75)\n",
    "#add totals at top of bar for better visualisation\n",
    "for i in ax2.patches:\n",
    "    width, height = i.get_width(), i.get_height()\n",
    "    x, y = i.get_xy() \n",
    "    ax2.annotate('{:.1f}'.format(height), (x - 0.02, y + height + 0.8), fontsize=10, \n",
    "                 color='black')    \n",
    "ytcks2=np.arange(0,65,10)\n",
    "ax2.set_yticklabels(\"\")\n",
    "ax2.set_ylabel(\"%\")\n",
    "ax2.set_yticks(ytcks2)\n",
    "\n",
    "plt.figure(figsize=(16,12))\n",
    "\n",
    "plt.show()"
   ]
  },
  {
   "cell_type": "markdown",
   "metadata": {},
   "source": [
    "For ethnicity and age demographics, we can see Clusters 1 and 2 have the highest proportion of white ethnicity amongst voters, with Cluster 1 also having the largest percentage of older (65 years and above) voters. \n",
    "\n",
    "Cluster 3 appears most mixed both in terms of ethnicity and age ranges, followed by Cluster 4 with a more evenly distributed age range than Cluster 3; both clusters have a lower proportion of older voters as compared to other clusters.\n"
   ]
  },
  {
   "cell_type": "markdown",
   "metadata": {},
   "source": [
    "***********************************************************************"
   ]
  },
  {
   "cell_type": "markdown",
   "metadata": {},
   "source": [
    "Now let's see what the clusters look like on the map relative to the position of the Districts (as indicated by District Office, as I was unable to source a usable Georgia congressional district map)"
   ]
  },
  {
   "cell_type": "code",
   "execution_count": null,
   "metadata": {},
   "outputs": [],
   "source": [
    "#set up a base layer of state of Georgia (this was the only usable map \n",
    "#I could find)\n",
    "georgia = geocoder.osm('Georgia, USA')\n",
    "georgia.latlng\n",
    "\n",
    "georgia_map=folium.Map(location=(georgia.latlng), \n",
    "                       zoom_start=7)\n",
    "\n",
    "georgia_county_data = \\\n",
    "  '/Users/jtege/Documents/Coursera IBM Data Sci Spec/9. Applied Data Science Capstone/Coursera_Capstone/cb_2018_13_sldu_500k.geojson'\n",
    "\n",
    "\n",
    "#use choropleth to easily highlight the state of Georgia in the US map\n",
    "georgia_map.choropleth(geo_data = georgia_county_data,\n",
    "                            key_on='feature.properties.name',\n",
    "                            fill_color='YlOrRd', \n",
    "                            fill_opacity=0.05, \n",
    "                            line_opacity=0.3)\n",
    "\n",
    "\n",
    "#add each district office locations used in this analysis in below loop\n",
    "for lat, lon, poi, pcolor in zip(df_districts_merged['Latitude'], \n",
    "                        df_districts_merged['Longitude'], \n",
    "                        df_districts_merged['District - Party'],\n",
    "                        df_districts_merged['party_color']): \n",
    "\n",
    "    label = folium.Popup(poi, \n",
    "                         max_width=50,\n",
    "                         parse_html=True)\n",
    "    \n",
    "#Folium/leaflet popup color pallette is more limited than matplotlib so\n",
    "#need to change so district party colour is visible in map\n",
    "    if pcolor=='indianred':\n",
    "        colour='red'\n",
    "    else:\n",
    "        colour='blue'\n",
    "\n",
    "    folium.Marker(\n",
    "        [lat, lon],\n",
    "        popup=label,\n",
    "        icon=folium.Icon(icon='info-sign', color=colour)\n",
    "                ).add_to(georgia_map)\n",
    "\n",
    "\n",
    "fig = Figure(width=500, height=600)\n",
    "fig.add_child(georgia_map)\n",
    "\n",
    "georgia_map"
   ]
  },
  {
   "cell_type": "markdown",
   "metadata": {},
   "source": [
    "'Blue' popups represent Democratic electorate offices, and 'Red' popups represent Republican electoral offices.\n",
    "\n",
    "Given the redistricting requirement of equal approximate population size, it is unsurprising to see a cluster of district offices around the Atlanta region (an area of approximately 469,000 people in 2015, the year of the last redistricting). (source: wikipedia)"
   ]
  },
  {
   "cell_type": "code",
   "execution_count": null,
   "metadata": {},
   "outputs": [],
   "source": [
    "#...and lastly, see where (approximately) our new clusters are located.\n",
    "#To avoid cluttered map, get rid of the district map pops (by reloading\n",
    "#the georgia map)\n",
    "georgia_map=folium.Map(location=(georgia.latlng), \n",
    "                       zoom_start=7)\n",
    "georgia_map.choropleth(geo_data = georgia_county_data,\n",
    "                            key_on='feature.properties.name',\n",
    "                            fill_color='YlOrRd', \n",
    "                            fill_opacity=0.05, \n",
    "                            line_opacity=0.3)\n",
    "\n",
    "#...and then set colours for clusters (use cluster number to index \n",
    "#into colours list) and plot the counties\n",
    "cluster_colours=['blue', 'green', \n",
    "           'red', 'cyan', 'magenta']\n",
    "#                'yellow', 'gray']\n",
    "df_clusterc=pd.DataFrame(data=None, columns=['cluster', 'colour'])\n",
    "df_clusterc['cluster'] = df_counties_merged['Cluster'].unique()\n",
    "df_clusterc['colour'] = cluster_colours\n",
    "df_clusterc = df_clusterc.sort_values(by='cluster', ascending=True)\n",
    "\n",
    "\n",
    "for lat, lng, county, cluster in zip(df_counties_merged['Latitude'], \n",
    "                           df_counties_merged['Longitude'], \n",
    "                           df_counties_merged['County'],\n",
    "                            df_counties_merged['Cluster']):\n",
    "    \n",
    "    clcolour = df_clusterc['colour'].loc[(df_clusterc['cluster']== \\\n",
    "                                       cluster)].tolist()\n",
    "#    print('cluster: ', cluster, ' colour: ', clcolour)\n",
    "    folium.features.CircleMarker(\n",
    "        [lat, lng],\n",
    "        radius=5,\n",
    "        weight=1,\n",
    "        color='yellow',\n",
    "        fill=True,\n",
    "        popup=county,\n",
    "        fill_color=clcolour,\n",
    "        fill_opacity=0.6\n",
    "    ).add_to(georgia_map)\n",
    "\n",
    "\n",
    "fig = Figure(width=500, height=600)\n",
    "fig.add_child(georgia_map)\n",
    "\n",
    "georgia_map"
   ]
  },
  {
   "cell_type": "code",
   "execution_count": null,
   "metadata": {},
   "outputs": [],
   "source": [
    "#as there is no easy way to visualise a legend in Folium, will create\n",
    "#a quick df with the colours used\n",
    "\n",
    "df_clusterc.style.hide_index()"
   ]
  },
  {
   "cell_type": "markdown",
   "metadata": {},
   "source": [
    "Counties of the same clusters are, for the most part, geographically dispersed, however these clusters may still suggest a prioritisation or campaign alignment strategy that extends beyond normal 'district-centric' targetting.  Given the presumed gerrymandering applied to the last redistricting in Georgia, this may be important to state-wide election campaigns.\n"
   ]
  },
  {
   "cell_type": "markdown",
   "metadata": {},
   "source": [
    "***********************************************************************"
   ]
  },
  {
   "cell_type": "markdown",
   "metadata": {},
   "source": [
    "<h3 align=left><font size = 3>Step 4 - Results Discussion:</font></h3>\n",
    "\n",
    "***Below consolidates the various observations on districts and counties that may be of most interest to campaign advisors and consultants.***"
   ]
  },
  {
   "cell_type": "markdown",
   "metadata": {},
   "source": [
    "To be written into report"
   ]
  },
  {
   "cell_type": "markdown",
   "metadata": {},
   "source": [
    "***********************************************************************"
   ]
  },
  {
   "cell_type": "markdown",
   "metadata": {},
   "source": [
    "<h3 align=left><font size = 3>Step 5 - Conclusions:</font></h3>\n",
    "\n",
    "***Below provides conclusions related to the central question \"What can be done to counter the effects of gerrymandering?\"***"
   ]
  },
  {
   "cell_type": "markdown",
   "metadata": {},
   "source": [
    "To be written into report"
   ]
  },
  {
   "cell_type": "code",
   "execution_count": null,
   "metadata": {},
   "outputs": [],
   "source": []
  }
 ],
 "metadata": {
  "kernelspec": {
   "display_name": "Python 3",
   "language": "python",
   "name": "python3"
  },
  "language_info": {
   "codemirror_mode": {
    "name": "ipython",
    "version": 3
   },
   "file_extension": ".py",
   "mimetype": "text/x-python",
   "name": "python",
   "nbconvert_exporter": "python",
   "pygments_lexer": "ipython3",
   "version": "3.7.6"
  }
 },
 "nbformat": 4,
 "nbformat_minor": 4
}
